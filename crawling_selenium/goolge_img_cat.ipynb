{
 "cells": [
  {
   "cell_type": "code",
   "execution_count": 6,
   "metadata": {},
   "outputs": [],
   "source": [
    "from selenium import webdriver\n",
    "from selenium.webdriver.chrome.service import Service as ChromeService\n",
    "from webdriver_manager.chrome import ChromeDriverManager\n",
    "\n",
    "driver = webdriver.Chrome(service=ChromeService(ChromeDriverManager().install()))\n",
    "\n",
    "URL = 'https://www.google.com/imghp'\n",
    "driver.get(url=URL)\n",
    "\n",
    "# 10초 안에 웹페이지를 로드하면 바로 넘어감, 10초 기다림\n",
    "driver.implicitly_wait(time_to_wait=10)"
   ]
  },
  {
   "cell_type": "code",
   "execution_count": 14,
   "metadata": {},
   "outputs": [],
   "source": [
    "from selenium.webdriver.common.keys import Keys\n",
    "from selenium.webdriver.common.by import By\n",
    "\n",
    "elem = driver.find_element(By.CSS_SELECTOR, 'textarea.gLFyf')\n",
    "\n",
    "elem.send_keys('고양이')\n",
    "elem.send_keys(Keys.RETURN)"
   ]
  },
  {
   "cell_type": "code",
   "execution_count": 17,
   "metadata": {},
   "outputs": [],
   "source": [
    "import time\n",
    "\n",
    "elem = driver.find_element(By.CSS_SELECTOR, 'body')\n",
    "for i in range(60):\n",
    "  elem.send_keys(Keys.PAGE_DOWN)\n",
    "  time.sleep(0.1)\n",
    "\n",
    "try:\n",
    "  elem = driver.find_element(By.CSS_SELECTOR, 'input.LZ4I').click()\n",
    "  for i in range(60):\n",
    "    elem.send_keys(Keys.PAGE_DOWN)\n",
    "    time.sleep(0.1)\n",
    "except:\n",
    "  pass"
   ]
  },
  {
   "cell_type": "code",
   "execution_count": 25,
   "metadata": {},
   "outputs": [
    {
     "name": "stdout",
     "output_type": "stream",
     "text": [
      "찾은 이미지 개수:  434\n"
     ]
    }
   ],
   "source": [
    "links = []\n",
    "images = driver.find_elements(By.CSS_SELECTOR, 'a.FRuiCf.islib.nfEiy > div.fR600b.islir > img')\n",
    "# print(images[0].get_attribute('src'))\n",
    "\n",
    "for image in images:\n",
    "  if image.get_attribute('src') is not None:\n",
    "    links.append(image.get_attribute('src'))\n",
    "\n",
    "print('찾은 이미지 개수: ', len(links))"
   ]
  },
  {
   "cell_type": "code",
   "execution_count": 31,
   "metadata": {},
   "outputs": [
    {
     "name": "stdout",
     "output_type": "stream",
     "text": [
      "434개 이미지 다운로드 완료\n"
     ]
    }
   ],
   "source": [
    "import urllib.request\n",
    "\n",
    "count = 0\n",
    "\n",
    "for i, v in enumerate(links):\n",
    "  url = v\n",
    "  urllib.request.urlretrieve(url, f'./cat/cat_{i+1}.jpg')\n",
    "  count += 1\n",
    "\n",
    "print(f'{count}개 이미지 다운로드 완료')"
   ]
  }
 ],
 "metadata": {
  "kernelspec": {
   "display_name": "Python 3",
   "language": "python",
   "name": "python3"
  },
  "language_info": {
   "codemirror_mode": {
    "name": "ipython",
    "version": 3
   },
   "file_extension": ".py",
   "mimetype": "text/x-python",
   "name": "python",
   "nbconvert_exporter": "python",
   "pygments_lexer": "ipython3",
   "version": "3.12.1"
  }
 },
 "nbformat": 4,
 "nbformat_minor": 2
}
